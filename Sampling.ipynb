{
  "nbformat": 4,
  "nbformat_minor": 0,
  "metadata": {
    "colab": {
      "provenance": [],
      "authorship_tag": "ABX9TyPvU8/w6uJ7XdXoiOcmKGnV",
      "include_colab_link": true
    },
    "kernelspec": {
      "name": "python3",
      "display_name": "Python 3"
    },
    "language_info": {
      "name": "python"
    }
  },
  "cells": [
    {
      "cell_type": "markdown",
      "metadata": {
        "id": "view-in-github",
        "colab_type": "text"
      },
      "source": [
        "<a href=\"https://colab.research.google.com/github/AfsanehHabibi/reddit-conversation-quality/blob/main/Sampling.ipynb\" target=\"_parent\"><img src=\"https://colab.research.google.com/assets/colab-badge.svg\" alt=\"Open In Colab\"/></a>"
      ]
    },
    {
      "cell_type": "code",
      "execution_count": 1,
      "metadata": {
        "colab": {
          "base_uri": "https://localhost:8080/"
        },
        "id": "6AzAGKJmjVVd",
        "outputId": "83284e04-9b85-40a2-991f-c1f331e41a77"
      },
      "outputs": [
        {
          "output_type": "stream",
          "name": "stdout",
          "text": [
            "Collecting anytree\n",
            "  Downloading anytree-2.12.1-py3-none-any.whl (44 kB)\n",
            "\u001b[?25l     \u001b[90m━━━━━━━━━━━━━━━━━━━━━━━━━━━━━━━━━━━━━━━━\u001b[0m \u001b[32m0.0/44.9 kB\u001b[0m \u001b[31m?\u001b[0m eta \u001b[36m-:--:--\u001b[0m\r\u001b[2K     \u001b[90m━━━━━━━━━━━━━━━━━━━━━━━━━━━━━━━━━━━━━━━━\u001b[0m \u001b[32m44.9/44.9 kB\u001b[0m \u001b[31m2.0 MB/s\u001b[0m eta \u001b[36m0:00:00\u001b[0m\n",
            "\u001b[?25hRequirement already satisfied: six in /usr/local/lib/python3.10/dist-packages (from anytree) (1.16.0)\n",
            "Installing collected packages: anytree\n",
            "Successfully installed anytree-2.12.1\n"
          ]
        }
      ],
      "source": [
        "!pip install anytree"
      ]
    },
    {
      "cell_type": "code",
      "source": [
        "!pip install  kili"
      ],
      "metadata": {
        "colab": {
          "base_uri": "https://localhost:8080/"
        },
        "id": "9lcfqaIuyXZc",
        "outputId": "7306c6af-2431-4b46-d3ab-85b022148b60"
      },
      "execution_count": 2,
      "outputs": [
        {
          "output_type": "stream",
          "name": "stdout",
          "text": [
            "Collecting kili\n",
            "  Downloading kili-2.152.0-py3-none-any.whl (292 kB)\n",
            "\u001b[?25l     \u001b[90m━━━━━━━━━━━━━━━━━━━━━━━━━━━━━━━━━━━━━━━━\u001b[0m \u001b[32m0.0/293.0 kB\u001b[0m \u001b[31m?\u001b[0m eta \u001b[36m-:--:--\u001b[0m\r\u001b[2K     \u001b[91m━━━━━━━━━━━━━━━━━━━━━━━━━━━━━━━━━\u001b[0m\u001b[91m╸\u001b[0m\u001b[90m━━━━━━\u001b[0m \u001b[32m245.8/293.0 kB\u001b[0m \u001b[31m7.1 MB/s\u001b[0m eta \u001b[36m0:00:01\u001b[0m\r\u001b[2K     \u001b[90m━━━━━━━━━━━━━━━━━━━━━━━━━━━━━━━━━━━━━━━━\u001b[0m \u001b[32m293.0/293.0 kB\u001b[0m \u001b[31m6.7 MB/s\u001b[0m eta \u001b[36m0:00:00\u001b[0m\n",
            "\u001b[?25hRequirement already satisfied: pandas<3.0.0,>=1.0.0 in /usr/local/lib/python3.10/dist-packages (from kili) (1.5.3)\n",
            "Requirement already satisfied: click<9.0.0,>=8.0.0 in /usr/local/lib/python3.10/dist-packages (from kili) (8.1.7)\n",
            "Requirement already satisfied: requests<3.0.0,>=2.0.0 in /usr/local/lib/python3.10/dist-packages (from kili) (2.31.0)\n",
            "Requirement already satisfied: tabulate<0.10.0,>=0.9.0 in /usr/local/lib/python3.10/dist-packages (from kili) (0.9.0)\n",
            "Requirement already satisfied: tenacity<9.0.0,>=8.0.0 in /usr/local/lib/python3.10/dist-packages (from kili) (8.2.3)\n",
            "Requirement already satisfied: tqdm<5.0.0,>=4.0.0 in /usr/local/lib/python3.10/dist-packages (from kili) (4.66.2)\n",
            "Collecting typeguard<5,>=4 (from kili)\n",
            "  Downloading typeguard-4.1.5-py3-none-any.whl (34 kB)\n",
            "Requirement already satisfied: typing-extensions<5.0.0,>=4.1.0 in /usr/local/lib/python3.10/dist-packages (from kili) (4.10.0)\n",
            "Requirement already satisfied: pyparsing<4.0.0,>=3.0.0 in /usr/local/lib/python3.10/dist-packages (from kili) (3.1.1)\n",
            "Requirement already satisfied: websocket-client<2.0.0,>=1.0.0 in /usr/local/lib/python3.10/dist-packages (from kili) (1.7.0)\n",
            "Requirement already satisfied: pyyaml<7.0,>=6.0 in /usr/local/lib/python3.10/dist-packages (from kili) (6.0.1)\n",
            "Requirement already satisfied: Pillow<11.0.0,>=9.0.0 in /usr/local/lib/python3.10/dist-packages (from kili) (9.4.0)\n",
            "Collecting cuid<0.5,>=0.4 (from kili)\n",
            "  Downloading cuid-0.4.tar.gz (5.0 kB)\n",
            "  Preparing metadata (setup.py) ... \u001b[?25l\u001b[?25hdone\n",
            "Requirement already satisfied: urllib3<3,>=1.26 in /usr/local/lib/python3.10/dist-packages (from kili) (2.0.7)\n",
            "Collecting ffmpeg-python<0.3.0,>=0.2.0 (from kili)\n",
            "  Downloading ffmpeg_python-0.2.0-py3-none-any.whl (25 kB)\n",
            "Collecting gql[requests,websockets]<4.0.0,>=3.5.0b5 (from kili)\n",
            "  Downloading gql-3.6.0b1-py2.py3-none-any.whl (74 kB)\n",
            "\u001b[2K     \u001b[90m━━━━━━━━━━━━━━━━━━━━━━━━━━━━━━━━━━━━━━━━\u001b[0m \u001b[32m74.2/74.2 kB\u001b[0m \u001b[31m11.6 MB/s\u001b[0m eta \u001b[36m0:00:00\u001b[0m\n",
            "\u001b[?25hRequirement already satisfied: filelock<4.0.0,>=3.0.0 in /usr/local/lib/python3.10/dist-packages (from kili) (3.13.1)\n",
            "Collecting pyrate-limiter<3,>=2 (from kili)\n",
            "  Downloading pyrate_limiter-2.10.0-py3-none-any.whl (16 kB)\n",
            "Requirement already satisfied: future in /usr/local/lib/python3.10/dist-packages (from ffmpeg-python<0.3.0,>=0.2.0->kili) (0.18.3)\n",
            "Collecting graphql-core<3.4,>=3.3.0a3 (from gql[requests,websockets]<4.0.0,>=3.5.0b5->kili)\n",
            "  Downloading graphql_core-3.3.0a4-py3-none-any.whl (213 kB)\n",
            "\u001b[2K     \u001b[90m━━━━━━━━━━━━━━━━━━━━━━━━━━━━━━━━━━━━━━━━\u001b[0m \u001b[32m213.3/213.3 kB\u001b[0m \u001b[31m12.2 MB/s\u001b[0m eta \u001b[36m0:00:00\u001b[0m\n",
            "\u001b[?25hRequirement already satisfied: yarl<2.0,>=1.6 in /usr/local/lib/python3.10/dist-packages (from gql[requests,websockets]<4.0.0,>=3.5.0b5->kili) (1.9.4)\n",
            "Collecting backoff<3.0,>=1.11.1 (from gql[requests,websockets]<4.0.0,>=3.5.0b5->kili)\n",
            "  Downloading backoff-2.2.1-py3-none-any.whl (15 kB)\n",
            "Requirement already satisfied: anyio<5,>=3.0 in /usr/local/lib/python3.10/dist-packages (from gql[requests,websockets]<4.0.0,>=3.5.0b5->kili) (3.7.1)\n",
            "Collecting websockets<12,>=10 (from gql[requests,websockets]<4.0.0,>=3.5.0b5->kili)\n",
            "  Downloading websockets-11.0.3-cp310-cp310-manylinux_2_5_x86_64.manylinux1_x86_64.manylinux_2_17_x86_64.manylinux2014_x86_64.whl (129 kB)\n",
            "\u001b[2K     \u001b[90m━━━━━━━━━━━━━━━━━━━━━━━━━━━━━━━━━━━━━━━━\u001b[0m \u001b[32m129.9/129.9 kB\u001b[0m \u001b[31m12.3 MB/s\u001b[0m eta \u001b[36m0:00:00\u001b[0m\n",
            "\u001b[?25hCollecting requests-toolbelt<2,>=1.0.0 (from gql[requests,websockets]<4.0.0,>=3.5.0b5->kili)\n",
            "  Downloading requests_toolbelt-1.0.0-py2.py3-none-any.whl (54 kB)\n",
            "\u001b[2K     \u001b[90m━━━━━━━━━━━━━━━━━━━━━━━━━━━━━━━━━━━━━━━━\u001b[0m \u001b[32m54.5/54.5 kB\u001b[0m \u001b[31m7.5 MB/s\u001b[0m eta \u001b[36m0:00:00\u001b[0m\n",
            "\u001b[?25hRequirement already satisfied: python-dateutil>=2.8.1 in /usr/local/lib/python3.10/dist-packages (from pandas<3.0.0,>=1.0.0->kili) (2.8.2)\n",
            "Requirement already satisfied: pytz>=2020.1 in /usr/local/lib/python3.10/dist-packages (from pandas<3.0.0,>=1.0.0->kili) (2023.4)\n",
            "Requirement already satisfied: numpy>=1.21.0 in /usr/local/lib/python3.10/dist-packages (from pandas<3.0.0,>=1.0.0->kili) (1.25.2)\n",
            "Requirement already satisfied: charset-normalizer<4,>=2 in /usr/local/lib/python3.10/dist-packages (from requests<3.0.0,>=2.0.0->kili) (3.3.2)\n",
            "Requirement already satisfied: idna<4,>=2.5 in /usr/local/lib/python3.10/dist-packages (from requests<3.0.0,>=2.0.0->kili) (3.6)\n",
            "Requirement already satisfied: certifi>=2017.4.17 in /usr/local/lib/python3.10/dist-packages (from requests<3.0.0,>=2.0.0->kili) (2024.2.2)\n",
            "Requirement already satisfied: sniffio>=1.1 in /usr/local/lib/python3.10/dist-packages (from anyio<5,>=3.0->gql[requests,websockets]<4.0.0,>=3.5.0b5->kili) (1.3.1)\n",
            "Requirement already satisfied: exceptiongroup in /usr/local/lib/python3.10/dist-packages (from anyio<5,>=3.0->gql[requests,websockets]<4.0.0,>=3.5.0b5->kili) (1.2.0)\n",
            "Requirement already satisfied: six>=1.5 in /usr/local/lib/python3.10/dist-packages (from python-dateutil>=2.8.1->pandas<3.0.0,>=1.0.0->kili) (1.16.0)\n",
            "Requirement already satisfied: multidict>=4.0 in /usr/local/lib/python3.10/dist-packages (from yarl<2.0,>=1.6->gql[requests,websockets]<4.0.0,>=3.5.0b5->kili) (6.0.5)\n",
            "Building wheels for collected packages: cuid\n",
            "  Building wheel for cuid (setup.py) ... \u001b[?25l\u001b[?25hdone\n",
            "  Created wheel for cuid: filename=cuid-0.4-py2.py3-none-any.whl size=4714 sha256=e4abefda04ba3314c65b86f60c2d85e67409096532cd689fbb4e5c03a43c9104\n",
            "  Stored in directory: /root/.cache/pip/wheels/52/0a/dc/a0e28c435d5a74d9eef3d7c3cd147b96cb21e71e5ec7dcfdbe\n",
            "Successfully built cuid\n",
            "Installing collected packages: cuid, websockets, typeguard, pyrate-limiter, graphql-core, ffmpeg-python, backoff, requests-toolbelt, gql, kili\n",
            "Successfully installed backoff-2.2.1 cuid-0.4 ffmpeg-python-0.2.0 gql-3.6.0b1 graphql-core-3.3.0a4 kili-2.152.0 pyrate-limiter-2.10.0 requests-toolbelt-1.0.0 typeguard-4.1.5 websockets-11.0.3\n"
          ]
        }
      ]
    },
    {
      "cell_type": "code",
      "source": [
        "from google.colab import drive\n",
        "drive.mount('/content/drive')"
      ],
      "metadata": {
        "colab": {
          "base_uri": "https://localhost:8080/"
        },
        "id": "r7WJJ_fSkGFG",
        "outputId": "c0fb8e72-fea2-4dea-fc2d-1638fc0c932e"
      },
      "execution_count": 3,
      "outputs": [
        {
          "output_type": "stream",
          "name": "stdout",
          "text": [
            "Mounted at /content/drive\n"
          ]
        }
      ]
    },
    {
      "cell_type": "code",
      "source": [
        "base_path = \"/content/drive/MyDrive/University/RedditData/\""
      ],
      "metadata": {
        "id": "4Q1YxQyAkV_c"
      },
      "execution_count": 4,
      "outputs": []
    },
    {
      "cell_type": "code",
      "source": [
        "import pickle\n",
        "\n",
        "with open(f\"{base_path}conversations_with_reasoning_media_removed.pkl\", 'rb') as file:\n",
        "    conversations = pickle.load(file)\n",
        "\n",
        "print(\"Len loaded data:\", len(conversations))"
      ],
      "metadata": {
        "colab": {
          "base_uri": "https://localhost:8080/"
        },
        "id": "sP-LARXRkkbV",
        "outputId": "e2241bdf-5955-4117-e479-c00dabfb271e"
      },
      "execution_count": 27,
      "outputs": [
        {
          "output_type": "stream",
          "name": "stdout",
          "text": [
            "Len loaded data: 18184\n"
          ]
        }
      ]
    },
    {
      "cell_type": "code",
      "source": [
        "for id in conversations:\n",
        "  print(conversations[id]['comments'][0])\n",
        "  print(conversations[id]['pairs'][0])\n",
        "  break"
      ],
      "metadata": {
        "colab": {
          "base_uri": "https://localhost:8080/"
        },
        "id": "rm2Yr5e3lTdu",
        "outputId": "96f840c1-6c28-48c1-cea5-b114219b161d"
      },
      "execution_count": 28,
      "outputs": [
        {
          "output_type": "stream",
          "name": "stdout",
          "text": [
            "{'id': 'xyt38s', 'body': 'MLB Sat Info\\n\\nPlay\\xa0OnAll underdogs with a money line of +100 or higher\\xa0(SEATTLE)team with a terrible SLG (&lt;=.400) against a very good starting pitcher (WHIP&lt;=1.300) -AL, with a very good bullpen whose WHIP is 1.250 or better on the season217-224\\xa0over the last 5 seasons.49.2%\\xa0(89.1\\xa0units)', 'author': None, 'reply_to': None, 'conversation_id': 'xyt38s', 'politness_score': 0.09523809523809523, 'readability_score': -0.5, 'has_reasoning': False}\n",
            "{'comment': 'MLB Sat Info\\n\\nPlay\\xa0OnAll underdogs with a money line of +100 or higher\\xa0(SEATTLE)team with a terrible SLG (&lt;=.400) against a very good starting pitcher (WHIP&lt;=1.300) -AL, with a very good bullpen whose WHIP is 1.250 or better on the season217-224\\xa0over the last 5 seasons.49.2%\\xa0(89.1\\xa0units)', 'reply': 'Play\\xa0OnAll underdogs with a money line of +100 or higher\\xa0(TAMPA BAY)team with a terrible SLG (<=.400) against a very good starting pitcher (WHIP<=1.300) -AL, with a very good bullpen whose WHIP is 1.250 or better on the season217-224\\xa0over the last 5 seasons.49.2%\\xa0(89.1\\xa0units)', 'comment_id': 'xyt38s', 'reply_id': 'iromk5a', 'global_id': 'xyt38s_iromk5a', 'relatedness_score': 0.8877267007927095}\n"
          ]
        }
      ]
    },
    {
      "cell_type": "code",
      "source": [
        "import random\n",
        "\n",
        "def get_random_pairs(conversations, sample_size):\n",
        "  random_pairs = []\n",
        "\n",
        "  random_sample = random.sample(conversations.items(), sample_size)\n",
        "  for sample_conversation in random_sample:\n",
        "      random_pair = random.choice(sample_conversation[1]['pairs'])\n",
        "      for pair in sample_conversation[1]['pairs']:\n",
        "        if pair['comment_id'] == random_pair['comment_id'] and pair['reply_id'] != random_pair['reply_id']:\n",
        "          other_response = pair\n",
        "          random_pairs.append(random_pair)\n",
        "          random_pairs.append(pair)\n",
        "          break\n",
        "  return random_pairs"
      ],
      "metadata": {
        "id": "ktMJoAj-wQ-O"
      },
      "execution_count": 29,
      "outputs": []
    },
    {
      "cell_type": "code",
      "source": [
        "random_pairs = get_random_pairs(conversations, 180)"
      ],
      "metadata": {
        "colab": {
          "base_uri": "https://localhost:8080/"
        },
        "id": "6hXA7ACPi-sY",
        "outputId": "7e0127be-c345-40b1-a80c-438b75841ee2"
      },
      "execution_count": 30,
      "outputs": [
        {
          "output_type": "stream",
          "name": "stderr",
          "text": [
            "<ipython-input-29-739721b51061>:6: DeprecationWarning: Sampling from a set deprecated\n",
            "since Python 3.9 and will be removed in a subsequent version.\n",
            "  random_sample = random.sample(conversations.items(), sample_size)\n"
          ]
        }
      ]
    },
    {
      "cell_type": "code",
      "source": [
        "random_pairs[42]"
      ],
      "metadata": {
        "colab": {
          "base_uri": "https://localhost:8080/"
        },
        "id": "V0rDLj2TfrwM",
        "outputId": "a70c42be-0779-4b25-e039-0a26267ccee1"
      },
      "execution_count": 40,
      "outputs": [
        {
          "output_type": "execute_result",
          "data": {
            "text/plain": [
              "{'comment': 'On your first playthrough, which sisters did you kill?\\n\\n[View Poll](https://www.reddit.com/poll/xslb04)',\n",
              " 'reply': 'Amber because she’s always the one in front of you when you start the fight.',\n",
              " 'comment_id': 'xslb04',\n",
              " 'reply_id': 'iqlvgh2',\n",
              " 'global_id': 'xslb04_iqlvgh2',\n",
              " 'relatedness_score': 0.057112793273815486}"
            ]
          },
          "metadata": {},
          "execution_count": 40
        }
      ]
    },
    {
      "cell_type": "code",
      "source": [
        "conversations['xuk5dd']"
      ],
      "metadata": {
        "colab": {
          "base_uri": "https://localhost:8080/",
          "height": 141
        },
        "id": "tOGXJhIFNKjH",
        "outputId": "d56a5052-929d-4153-c2b5-852d4c2b265f"
      },
      "execution_count": 32,
      "outputs": [
        {
          "output_type": "error",
          "ename": "KeyError",
          "evalue": "'xuk5dd'",
          "traceback": [
            "\u001b[0;31m---------------------------------------------------------------------------\u001b[0m",
            "\u001b[0;31mKeyError\u001b[0m                                  Traceback (most recent call last)",
            "\u001b[0;32m<ipython-input-32-2e546fc0b64b>\u001b[0m in \u001b[0;36m<cell line: 1>\u001b[0;34m()\u001b[0m\n\u001b[0;32m----> 1\u001b[0;31m \u001b[0mconversations\u001b[0m\u001b[0;34m[\u001b[0m\u001b[0;34m'xuk5dd'\u001b[0m\u001b[0;34m]\u001b[0m\u001b[0;34m\u001b[0m\u001b[0;34m\u001b[0m\u001b[0m\n\u001b[0m",
            "\u001b[0;31mKeyError\u001b[0m: 'xuk5dd'"
          ]
        }
      ]
    },
    {
      "cell_type": "code",
      "source": [
        "[random_pairs[i]['comment_id']+\"_\"+random_pairs[i]['reply_id']+\"_\"+random_pairs[i+1]['reply_id'] for i in range(0, 6, 2)]"
      ],
      "metadata": {
        "id": "GQ6WqfPne-vH"
      },
      "execution_count": null,
      "outputs": []
    },
    {
      "cell_type": "code",
      "source": [
        "len(random_pairs)"
      ],
      "metadata": {
        "id": "pDs5qggoeZE8"
      },
      "execution_count": null,
      "outputs": []
    },
    {
      "cell_type": "code",
      "source": [
        "import os\n",
        "import json\n",
        "from kili.client import Kili\n",
        "\n",
        "def create_new_kili_projcet_for_pairs(random_pairs):\n",
        "  kili = Kili(api_key='6acd489f-9746-4ac4-9650-54e2d9c9faba')\n",
        "  interface = {\n",
        "      \"jobs\": {\n",
        "          \"JOB_0\": {\n",
        "              \"mlTask\": \"CLASSIFICATION\",\n",
        "              \"required\": 1,\n",
        "              \"isChild\": False,\n",
        "              \"content\": {\n",
        "                  \"categories\": {\"IsConversation\": {\"name\": \"has a common purpose or set of purposes, or at least a mutually accepted direction\"}, \"NotConversation\": {\"name\": \"has no prupose or a direction\"}},\n",
        "                  \"input\": \"radio\",\n",
        "              },\n",
        "          },\n",
        "          \"JOB_1\": {\n",
        "              \"mlTask\": \"CLASSIFICATION\",\n",
        "              \"required\": 1,\n",
        "              \"isChild\": False,\n",
        "              \"content\": {\n",
        "                  \"categories\": {\"Related\": {\"name\": \"is relevent\"}, \"UnRelated\": {\"name\": \"is not relevent\"}},\n",
        "                  \"input\": \"radio\",\n",
        "              },\n",
        "          },\n",
        "          \"JOB_2\": {\n",
        "              \"mlTask\": \"CLASSIFICATION\",\n",
        "              \"required\": 1,\n",
        "              \"isChild\": False,\n",
        "              \"content\": {\n",
        "                  \"categories\": {\"HasQuality\": {\"name\": \"has quality: does not say which it lack adequate evidence or it believes to be false.\"}, \"NonQuality\": {\"name\": \"no quality: says which it lacks evidence or it believes is false.\"}},\n",
        "                  \"input\": \"radio\",\n",
        "              },\n",
        "          },\n",
        "          \"JOB_3\": {\n",
        "              \"mlTask\": \"CLASSIFICATION\",\n",
        "              \"required\": 1,\n",
        "              \"isChild\": False,\n",
        "              \"content\": {\n",
        "                  \"categories\": {\"HasQuantity\": {\"name\": \"has quantity: is as informative as is required\"}, \"NoQuantity\": {\"name\": \"no  quantity: is more or less informative than is required\"}},\n",
        "                  \"input\": \"radio\",\n",
        "              },\n",
        "          },\n",
        "          \"JOB_4\": {\n",
        "              \"mlTask\": \"CLASSIFICATION\",\n",
        "              \"required\": 1,\n",
        "              \"isChild\": False,\n",
        "              \"content\": {\n",
        "                  \"categories\": {\"HasManner\": {\"name\": \"has manner: avoids vagueness, avoids ambiguty, do not play with words, is orderly\"}, \"NoManner\": {\"name\": \"no manner: is vague or ambiguous or plays with words or is not orderly\"}},\n",
        "                  \"input\": \"radio\",\n",
        "              },\n",
        "          },\n",
        "          \"JOB_5\": {\n",
        "              \"mlTask\": \"CLASSIFICATION\",\n",
        "              \"required\": 1,\n",
        "              \"isChild\": False,\n",
        "              \"content\": {\n",
        "                  \"categories\": {\"IsPolite\": {\"name\": \"is polite\"}, \"NotPolite\": {\"name\": \"is not polite\"}},\n",
        "                  \"input\": \"radio\",\n",
        "              },\n",
        "          }\n",
        "      }\n",
        "  }\n",
        "\n",
        "  project = kili.create_project(\n",
        "      title=\"Conversation and Maxims\",\n",
        "      description=\"Project Description\",\n",
        "      input_type=\"TEXT\",\n",
        "      json_interface=interface,\n",
        "  )\n",
        "  project_id = project['id']\n",
        "  print(\"Project ID: \", project_id)\n",
        "  assets = kili.append_many_to_dataset(\n",
        "      project_id=project_id,\n",
        "      content_array = [('comment: ' + d['comment'] + '\\n' + 'reply: ' + d['reply']) for d in random_pairs[:100]],\n",
        "      external_id_array = [d['global_id'] for d in random_pairs[:100]]\n",
        "  )\n",
        "  # Project ID:  clp5pxaet1wdn086r7y3x0ngo"
      ],
      "metadata": {
        "id": "qPlH8s4PyNMx"
      },
      "execution_count": null,
      "outputs": []
    },
    {
      "cell_type": "code",
      "source": [
        "import os\n",
        "import json\n",
        "from kili.client import Kili\n",
        "\n",
        "def create_new_kili_projcet_for_better_reply(random_pairs):\n",
        "  kili = Kili(api_key='6acd489f-9746-4ac4-9650-54e2d9c9faba')\n",
        "  interface = {\n",
        "      \"jobs\": {\n",
        "          \"JOB_0\": {\n",
        "              \"mlTask\": \"CLASSIFICATION\",\n",
        "              \"required\": 1,\n",
        "              \"isChild\": False,\n",
        "              \"content\": {\n",
        "                  \"categories\": {\"A\": {\"name\": \"FirstAnswer\"}, \"B\": {\"name\": \"SecondAnswer\"}},\n",
        "                  \"input\": \"radio\",\n",
        "              },\n",
        "          }\n",
        "      }\n",
        "  }\n",
        "\n",
        "  project = kili.create_project(\n",
        "      title=\"Convesarions weight assesment\",\n",
        "      description=\"choose better reply\",\n",
        "      input_type=\"TEXT\",\n",
        "      json_interface=interface,\n",
        "  )\n",
        "  project_id = project['id']\n",
        "  print(\"Project ID: \", project_id)\n",
        "  pairs = random_pairs\n",
        "  assets = kili.append_many_to_dataset(\n",
        "      project_id=project_id,\n",
        "      content_array = [('comment: ' + pairs[i]['comment'] + '\\n' + ' reply A: ' + pairs[i]['reply']+ '\\n' + ' reply B: ' + pairs[i+1]['reply']) for i in range(0, len(pairs), 2)],\n",
        "      external_id_array = [pairs[i]['comment_id']+\"_\"+pairs[i]['reply_id']+\"_\"+pairs[i+1]['reply_id'] for i in range(0, len(pairs), 2)]\n",
        "  )\n",
        "  # Project ID:  clp5pxaet1wdn086r7y3x0ngo"
      ],
      "metadata": {
        "id": "1NnDj_0qYr3B"
      },
      "execution_count": null,
      "outputs": []
    },
    {
      "cell_type": "code",
      "source": [
        "create_new_kili_projcet_for_better_reply(random_pairs)"
      ],
      "metadata": {
        "id": "wSxck3a5csDV"
      },
      "execution_count": null,
      "outputs": []
    }
  ]
}