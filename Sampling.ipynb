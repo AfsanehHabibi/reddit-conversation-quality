{
  "nbformat": 4,
  "nbformat_minor": 0,
  "metadata": {
    "colab": {
      "provenance": [],
      "authorship_tag": "ABX9TyNLweMZKKR1NuphxDVREqZ2",
      "include_colab_link": true
    },
    "kernelspec": {
      "name": "python3",
      "display_name": "Python 3"
    },
    "language_info": {
      "name": "python"
    }
  },
  "cells": [
    {
      "cell_type": "markdown",
      "metadata": {
        "id": "view-in-github",
        "colab_type": "text"
      },
      "source": [
        "<a href=\"https://colab.research.google.com/github/AfsanehHabibi/reddit-conversation-quality/blob/main/Sampling.ipynb\" target=\"_parent\"><img src=\"https://colab.research.google.com/assets/colab-badge.svg\" alt=\"Open In Colab\"/></a>"
      ]
    },
    {
      "cell_type": "code",
      "execution_count": 1,
      "metadata": {
        "colab": {
          "base_uri": "https://localhost:8080/"
        },
        "id": "6AzAGKJmjVVd",
        "outputId": "d8ecf539-d36f-4399-b596-a47d4ce5389e"
      },
      "outputs": [
        {
          "output_type": "stream",
          "name": "stdout",
          "text": [
            "Collecting anytree\n",
            "  Downloading anytree-2.12.1-py3-none-any.whl (44 kB)\n",
            "\u001b[2K     \u001b[90m━━━━━━━━━━━━━━━━━━━━━━━━━━━━━━━━━━━━━━━━\u001b[0m \u001b[32m44.9/44.9 kB\u001b[0m \u001b[31m894.0 kB/s\u001b[0m eta \u001b[36m0:00:00\u001b[0m\n",
            "\u001b[?25hRequirement already satisfied: six in /usr/local/lib/python3.10/dist-packages (from anytree) (1.16.0)\n",
            "Installing collected packages: anytree\n",
            "Successfully installed anytree-2.12.1\n"
          ]
        }
      ],
      "source": [
        "!pip install anytree"
      ]
    },
    {
      "cell_type": "code",
      "source": [
        "!pip install  kili"
      ],
      "metadata": {
        "colab": {
          "base_uri": "https://localhost:8080/"
        },
        "id": "9lcfqaIuyXZc",
        "outputId": "2bafd710-331a-4ce5-db3c-d9736e927a88"
      },
      "execution_count": 2,
      "outputs": [
        {
          "output_type": "stream",
          "name": "stdout",
          "text": [
            "Collecting kili\n",
            "  Downloading kili-2.152.2-py3-none-any.whl (293 kB)\n",
            "\u001b[?25l     \u001b[90m━━━━━━━━━━━━━━━━━━━━━━━━━━━━━━━━━━━━━━━━\u001b[0m \u001b[32m0.0/293.3 kB\u001b[0m \u001b[31m?\u001b[0m eta \u001b[36m-:--:--\u001b[0m\r\u001b[2K     \u001b[91m━━━━━━━━━━━━\u001b[0m\u001b[91m╸\u001b[0m\u001b[90m━━━━━━━━━━━━━━━━━━━━━━━━━━━\u001b[0m \u001b[32m92.2/293.3 kB\u001b[0m \u001b[31m2.7 MB/s\u001b[0m eta \u001b[36m0:00:01\u001b[0m\r\u001b[2K     \u001b[91m━━━━━━━━━━━━━━━━━━━━━━━━━━━━━━━━━━━━━━━\u001b[0m\u001b[90m╺\u001b[0m \u001b[32m286.7/293.3 kB\u001b[0m \u001b[31m4.9 MB/s\u001b[0m eta \u001b[36m0:00:01\u001b[0m\r\u001b[2K     \u001b[90m━━━━━━━━━━━━━━━━━━━━━━━━━━━━━━━━━━━━━━━━\u001b[0m \u001b[32m293.3/293.3 kB\u001b[0m \u001b[31m3.7 MB/s\u001b[0m eta \u001b[36m0:00:00\u001b[0m\n",
            "\u001b[?25hRequirement already satisfied: pandas<3.0.0,>=1.0.0 in /usr/local/lib/python3.10/dist-packages (from kili) (1.5.3)\n",
            "Requirement already satisfied: click<9.0.0,>=8.0.0 in /usr/local/lib/python3.10/dist-packages (from kili) (8.1.7)\n",
            "Requirement already satisfied: requests<3.0.0,>=2.0.0 in /usr/local/lib/python3.10/dist-packages (from kili) (2.31.0)\n",
            "Requirement already satisfied: tabulate<0.10.0,>=0.9.0 in /usr/local/lib/python3.10/dist-packages (from kili) (0.9.0)\n",
            "Requirement already satisfied: tenacity<9.0.0,>=8.0.0 in /usr/local/lib/python3.10/dist-packages (from kili) (8.2.3)\n",
            "Requirement already satisfied: tqdm<5.0.0,>=4.0.0 in /usr/local/lib/python3.10/dist-packages (from kili) (4.66.2)\n",
            "Collecting typeguard<5,>=4 (from kili)\n",
            "  Downloading typeguard-4.1.5-py3-none-any.whl (34 kB)\n",
            "Requirement already satisfied: typing-extensions<5.0.0,>=4.1.0 in /usr/local/lib/python3.10/dist-packages (from kili) (4.10.0)\n",
            "Requirement already satisfied: pyparsing<4.0.0,>=3.0.0 in /usr/local/lib/python3.10/dist-packages (from kili) (3.1.2)\n",
            "Requirement already satisfied: websocket-client<2.0.0,>=1.0.0 in /usr/local/lib/python3.10/dist-packages (from kili) (1.7.0)\n",
            "Requirement already satisfied: pyyaml<7.0,>=6.0 in /usr/local/lib/python3.10/dist-packages (from kili) (6.0.1)\n",
            "Requirement already satisfied: Pillow<11.0.0,>=9.0.0 in /usr/local/lib/python3.10/dist-packages (from kili) (9.4.0)\n",
            "Collecting cuid<0.5,>=0.4 (from kili)\n",
            "  Downloading cuid-0.4.tar.gz (5.0 kB)\n",
            "  Preparing metadata (setup.py) ... \u001b[?25l\u001b[?25hdone\n",
            "Requirement already satisfied: urllib3<3,>=1.26 in /usr/local/lib/python3.10/dist-packages (from kili) (2.0.7)\n",
            "Collecting ffmpeg-python<0.3.0,>=0.2.0 (from kili)\n",
            "  Downloading ffmpeg_python-0.2.0-py3-none-any.whl (25 kB)\n",
            "Collecting gql[requests,websockets]<4.0.0,>=3.5.0b5 (from kili)\n",
            "  Downloading gql-3.6.0b1-py2.py3-none-any.whl (74 kB)\n",
            "\u001b[2K     \u001b[90m━━━━━━━━━━━━━━━━━━━━━━━━━━━━━━━━━━━━━━━━\u001b[0m \u001b[32m74.2/74.2 kB\u001b[0m \u001b[31m4.9 MB/s\u001b[0m eta \u001b[36m0:00:00\u001b[0m\n",
            "\u001b[?25hRequirement already satisfied: filelock<4.0.0,>=3.0.0 in /usr/local/lib/python3.10/dist-packages (from kili) (3.13.1)\n",
            "Collecting pyrate-limiter<3,>=2 (from kili)\n",
            "  Downloading pyrate_limiter-2.10.0-py3-none-any.whl (16 kB)\n",
            "Requirement already satisfied: future in /usr/local/lib/python3.10/dist-packages (from ffmpeg-python<0.3.0,>=0.2.0->kili) (0.18.3)\n",
            "Collecting graphql-core<3.4,>=3.3.0a3 (from gql[requests,websockets]<4.0.0,>=3.5.0b5->kili)\n",
            "  Downloading graphql_core-3.3.0a4-py3-none-any.whl (213 kB)\n",
            "\u001b[2K     \u001b[90m━━━━━━━━━━━━━━━━━━━━━━━━━━━━━━━━━━━━━━━━\u001b[0m \u001b[32m213.3/213.3 kB\u001b[0m \u001b[31m8.1 MB/s\u001b[0m eta \u001b[36m0:00:00\u001b[0m\n",
            "\u001b[?25hRequirement already satisfied: yarl<2.0,>=1.6 in /usr/local/lib/python3.10/dist-packages (from gql[requests,websockets]<4.0.0,>=3.5.0b5->kili) (1.9.4)\n",
            "Collecting backoff<3.0,>=1.11.1 (from gql[requests,websockets]<4.0.0,>=3.5.0b5->kili)\n",
            "  Downloading backoff-2.2.1-py3-none-any.whl (15 kB)\n",
            "Requirement already satisfied: anyio<5,>=3.0 in /usr/local/lib/python3.10/dist-packages (from gql[requests,websockets]<4.0.0,>=3.5.0b5->kili) (3.7.1)\n",
            "Collecting websockets<12,>=10 (from gql[requests,websockets]<4.0.0,>=3.5.0b5->kili)\n",
            "  Downloading websockets-11.0.3-cp310-cp310-manylinux_2_5_x86_64.manylinux1_x86_64.manylinux_2_17_x86_64.manylinux2014_x86_64.whl (129 kB)\n",
            "\u001b[2K     \u001b[90m━━━━━━━━━━━━━━━━━━━━━━━━━━━━━━━━━━━━━━━━\u001b[0m \u001b[32m129.9/129.9 kB\u001b[0m \u001b[31m4.7 MB/s\u001b[0m eta \u001b[36m0:00:00\u001b[0m\n",
            "\u001b[?25hCollecting requests-toolbelt<2,>=1.0.0 (from gql[requests,websockets]<4.0.0,>=3.5.0b5->kili)\n",
            "  Downloading requests_toolbelt-1.0.0-py2.py3-none-any.whl (54 kB)\n",
            "\u001b[2K     \u001b[90m━━━━━━━━━━━━━━━━━━━━━━━━━━━━━━━━━━━━━━━━\u001b[0m \u001b[32m54.5/54.5 kB\u001b[0m \u001b[31m5.4 MB/s\u001b[0m eta \u001b[36m0:00:00\u001b[0m\n",
            "\u001b[?25hRequirement already satisfied: python-dateutil>=2.8.1 in /usr/local/lib/python3.10/dist-packages (from pandas<3.0.0,>=1.0.0->kili) (2.8.2)\n",
            "Requirement already satisfied: pytz>=2020.1 in /usr/local/lib/python3.10/dist-packages (from pandas<3.0.0,>=1.0.0->kili) (2023.4)\n",
            "Requirement already satisfied: numpy>=1.21.0 in /usr/local/lib/python3.10/dist-packages (from pandas<3.0.0,>=1.0.0->kili) (1.25.2)\n",
            "Requirement already satisfied: charset-normalizer<4,>=2 in /usr/local/lib/python3.10/dist-packages (from requests<3.0.0,>=2.0.0->kili) (3.3.2)\n",
            "Requirement already satisfied: idna<4,>=2.5 in /usr/local/lib/python3.10/dist-packages (from requests<3.0.0,>=2.0.0->kili) (3.6)\n",
            "Requirement already satisfied: certifi>=2017.4.17 in /usr/local/lib/python3.10/dist-packages (from requests<3.0.0,>=2.0.0->kili) (2024.2.2)\n",
            "Requirement already satisfied: sniffio>=1.1 in /usr/local/lib/python3.10/dist-packages (from anyio<5,>=3.0->gql[requests,websockets]<4.0.0,>=3.5.0b5->kili) (1.3.1)\n",
            "Requirement already satisfied: exceptiongroup in /usr/local/lib/python3.10/dist-packages (from anyio<5,>=3.0->gql[requests,websockets]<4.0.0,>=3.5.0b5->kili) (1.2.0)\n",
            "Requirement already satisfied: six>=1.5 in /usr/local/lib/python3.10/dist-packages (from python-dateutil>=2.8.1->pandas<3.0.0,>=1.0.0->kili) (1.16.0)\n",
            "Requirement already satisfied: multidict>=4.0 in /usr/local/lib/python3.10/dist-packages (from yarl<2.0,>=1.6->gql[requests,websockets]<4.0.0,>=3.5.0b5->kili) (6.0.5)\n",
            "Building wheels for collected packages: cuid\n",
            "  Building wheel for cuid (setup.py) ... \u001b[?25l\u001b[?25hdone\n",
            "  Created wheel for cuid: filename=cuid-0.4-py2.py3-none-any.whl size=4713 sha256=3a2f2e98a9794f52391d5278fb9806e77766cc0a2b6cc60470485ad448c9d7c6\n",
            "  Stored in directory: /root/.cache/pip/wheels/52/0a/dc/a0e28c435d5a74d9eef3d7c3cd147b96cb21e71e5ec7dcfdbe\n",
            "Successfully built cuid\n",
            "Installing collected packages: cuid, websockets, typeguard, pyrate-limiter, graphql-core, ffmpeg-python, backoff, requests-toolbelt, gql, kili\n",
            "Successfully installed backoff-2.2.1 cuid-0.4 ffmpeg-python-0.2.0 gql-3.6.0b1 graphql-core-3.3.0a4 kili-2.152.2 pyrate-limiter-2.10.0 requests-toolbelt-1.0.0 typeguard-4.1.5 websockets-11.0.3\n"
          ]
        }
      ]
    },
    {
      "cell_type": "code",
      "source": [
        "from google.colab import drive\n",
        "drive.mount('/content/drive')"
      ],
      "metadata": {
        "colab": {
          "base_uri": "https://localhost:8080/"
        },
        "id": "r7WJJ_fSkGFG",
        "outputId": "6c63c986-7546-431c-c75b-371776de2aa3"
      },
      "execution_count": 3,
      "outputs": [
        {
          "output_type": "stream",
          "name": "stdout",
          "text": [
            "Mounted at /content/drive\n"
          ]
        }
      ]
    },
    {
      "cell_type": "code",
      "source": [
        "base_path = \"/content/drive/MyDrive/University/RedditData/\""
      ],
      "metadata": {
        "id": "4Q1YxQyAkV_c"
      },
      "execution_count": 4,
      "outputs": []
    },
    {
      "cell_type": "code",
      "source": [
        "import pickle\n",
        "\n",
        "with open(f\"{base_path}conversations_with_sites.pkl\", 'rb') as file:\n",
        "    conversations = pickle.load(file)\n",
        "\n",
        "print(\"Len loaded data:\", len(conversations))"
      ],
      "metadata": {
        "colab": {
          "base_uri": "https://localhost:8080/"
        },
        "id": "sP-LARXRkkbV",
        "outputId": "b63aff46-df4b-4d03-fab0-1ab49e254b88"
      },
      "execution_count": 5,
      "outputs": [
        {
          "output_type": "stream",
          "name": "stdout",
          "text": [
            "Len loaded data: 18184\n"
          ]
        }
      ]
    },
    {
      "cell_type": "code",
      "source": [
        "for id in conversations:\n",
        "  print(conversations[id]['comments'][0])\n",
        "  print(conversations[id]['pairs'][0])\n",
        "  break"
      ],
      "metadata": {
        "colab": {
          "base_uri": "https://localhost:8080/"
        },
        "id": "rm2Yr5e3lTdu",
        "outputId": "96f840c1-6c28-48c1-cea5-b114219b161d"
      },
      "execution_count": null,
      "outputs": [
        {
          "output_type": "stream",
          "name": "stdout",
          "text": [
            "{'id': 'xyt38s', 'body': 'MLB Sat Info\\n\\nPlay\\xa0OnAll underdogs with a money line of +100 or higher\\xa0(SEATTLE)team with a terrible SLG (&lt;=.400) against a very good starting pitcher (WHIP&lt;=1.300) -AL, with a very good bullpen whose WHIP is 1.250 or better on the season217-224\\xa0over the last 5 seasons.49.2%\\xa0(89.1\\xa0units)', 'author': None, 'reply_to': None, 'conversation_id': 'xyt38s', 'politness_score': 0.09523809523809523, 'readability_score': -0.5, 'has_reasoning': False}\n",
            "{'comment': 'MLB Sat Info\\n\\nPlay\\xa0OnAll underdogs with a money line of +100 or higher\\xa0(SEATTLE)team with a terrible SLG (&lt;=.400) against a very good starting pitcher (WHIP&lt;=1.300) -AL, with a very good bullpen whose WHIP is 1.250 or better on the season217-224\\xa0over the last 5 seasons.49.2%\\xa0(89.1\\xa0units)', 'reply': 'Play\\xa0OnAll underdogs with a money line of +100 or higher\\xa0(TAMPA BAY)team with a terrible SLG (<=.400) against a very good starting pitcher (WHIP<=1.300) -AL, with a very good bullpen whose WHIP is 1.250 or better on the season217-224\\xa0over the last 5 seasons.49.2%\\xa0(89.1\\xa0units)', 'comment_id': 'xyt38s', 'reply_id': 'iromk5a', 'global_id': 'xyt38s_iromk5a', 'relatedness_score': 0.8877267007927095}\n"
          ]
        }
      ]
    },
    {
      "cell_type": "code",
      "source": [
        "import random\n",
        "\n",
        "def get_random_pairs(conversations, sample_size):\n",
        "  random_pairs = []\n",
        "\n",
        "  random_sample = random.sample(conversations.items(), sample_size)\n",
        "  for sample_conversation in random_sample:\n",
        "      random_pair = random.choice(sample_conversation[1]['pairs'])\n",
        "      for pair in sample_conversation[1]['pairs']:\n",
        "        if pair['comment_id'] == random_pair['comment_id'] and pair['reply_id'] != random_pair['reply_id']:\n",
        "          other_response = pair\n",
        "          random_pairs.append(random_pair)\n",
        "          random_pairs.append(pair)\n",
        "          break\n",
        "  return random_pairs"
      ],
      "metadata": {
        "id": "ktMJoAj-wQ-O"
      },
      "execution_count": 6,
      "outputs": []
    },
    {
      "cell_type": "code",
      "source": [
        "random_pairs = get_random_pairs(conversations, 180)"
      ],
      "metadata": {
        "colab": {
          "base_uri": "https://localhost:8080/"
        },
        "id": "6hXA7ACPi-sY",
        "outputId": "d8d5782d-bd67-48ff-8afc-75143cb30f4b"
      },
      "execution_count": 7,
      "outputs": [
        {
          "output_type": "stream",
          "name": "stderr",
          "text": [
            "<ipython-input-6-739721b51061>:6: DeprecationWarning: Sampling from a set deprecated\n",
            "since Python 3.9 and will be removed in a subsequent version.\n",
            "  random_sample = random.sample(conversations.items(), sample_size)\n"
          ]
        }
      ]
    },
    {
      "cell_type": "code",
      "source": [
        "random_pairs[42]"
      ],
      "metadata": {
        "colab": {
          "base_uri": "https://localhost:8080/"
        },
        "id": "V0rDLj2TfrwM",
        "outputId": "a804d126-fc64-470e-c65c-a934315df681"
      },
      "execution_count": 8,
      "outputs": [
        {
          "output_type": "execute_result",
          "data": {
            "text/plain": [
              "{'comment': 'Has anyone tried changing their eras email ID after submission of applications?Hey, Wanted to know whether someone has tried changing their EMAIL ID on eras after application submission? Did you start receiving aamc, thalamus interviews on the new email automatically?',\n",
              " 'reply': 'Yes. But one interview from the school came directly to my old email.',\n",
              " 'comment_id': 'xuizst',\n",
              " 'reply_id': 'iqyvxie',\n",
              " 'global_id': 'xuizst_iqyvxie',\n",
              " 'relatedness_score': 0.12095497377024401}"
            ]
          },
          "metadata": {},
          "execution_count": 8
        }
      ]
    },
    {
      "cell_type": "code",
      "source": [
        "[random_pairs[i]['comment_id']+\"_\"+random_pairs[i]['reply_id']+\"_\"+random_pairs[i+1]['reply_id'] for i in range(0, 6, 2)]"
      ],
      "metadata": {
        "id": "GQ6WqfPne-vH",
        "colab": {
          "base_uri": "https://localhost:8080/"
        },
        "outputId": "b63f2469-7973-4f85-cf5c-4f57e094884f"
      },
      "execution_count": 10,
      "outputs": [
        {
          "output_type": "execute_result",
          "data": {
            "text/plain": [
              "['xysy23_irilb2h_iriwzns', 'xy417o_irfnvcs_irf7r2o', 'xxhfh9_ircmx34_irc32zq']"
            ]
          },
          "metadata": {},
          "execution_count": 10
        }
      ]
    },
    {
      "cell_type": "code",
      "source": [
        "len(random_pairs)"
      ],
      "metadata": {
        "id": "pDs5qggoeZE8",
        "colab": {
          "base_uri": "https://localhost:8080/"
        },
        "outputId": "ccdaf3ef-3253-4b42-a42e-9230efcedc98"
      },
      "execution_count": 11,
      "outputs": [
        {
          "output_type": "execute_result",
          "data": {
            "text/plain": [
              "228"
            ]
          },
          "metadata": {},
          "execution_count": 11
        }
      ]
    },
    {
      "cell_type": "code",
      "source": [
        "import os\n",
        "import json\n",
        "from kili.client import Kili\n",
        "\n",
        "def create_new_kili_projcet_for_pairs(random_pairs):\n",
        "  kili = Kili(api_key='6acd489f-9746-4ac4-9650-54e2d9c9faba')\n",
        "  interface = {\n",
        "      \"jobs\": {\n",
        "          \"JOB_0\": {\n",
        "              \"mlTask\": \"CLASSIFICATION\",\n",
        "              \"required\": 1,\n",
        "              \"isChild\": False,\n",
        "              \"content\": {\n",
        "                  \"categories\": {\"IsConversation\": {\"name\": \"has a common purpose or set of purposes, or at least a mutually accepted direction\"}, \"NotConversation\": {\"name\": \"has no prupose or a direction\"}},\n",
        "                  \"input\": \"radio\",\n",
        "              },\n",
        "          },\n",
        "          \"JOB_1\": {\n",
        "              \"mlTask\": \"CLASSIFICATION\",\n",
        "              \"required\": 1,\n",
        "              \"isChild\": False,\n",
        "              \"content\": {\n",
        "                  \"categories\": {\"Related\": {\"name\": \"is relevent\"}, \"UnRelated\": {\"name\": \"is not relevent\"}},\n",
        "                  \"input\": \"radio\",\n",
        "              },\n",
        "          },\n",
        "          \"JOB_2\": {\n",
        "              \"mlTask\": \"CLASSIFICATION\",\n",
        "              \"required\": 1,\n",
        "              \"isChild\": False,\n",
        "              \"content\": {\n",
        "                  \"categories\": {\"HasQuality\": {\"name\": \"has quality: does not say which it lack adequate evidence or it believes to be false.\"}, \"NonQuality\": {\"name\": \"no quality: says which it lacks evidence or it believes is false.\"}},\n",
        "                  \"input\": \"radio\",\n",
        "              },\n",
        "          },\n",
        "          \"JOB_3\": {\n",
        "              \"mlTask\": \"CLASSIFICATION\",\n",
        "              \"required\": 1,\n",
        "              \"isChild\": False,\n",
        "              \"content\": {\n",
        "                  \"categories\": {\"HasQuantity\": {\"name\": \"has quantity: is as informative as is required\"}, \"NoQuantity\": {\"name\": \"no  quantity: is more or less informative than is required\"}},\n",
        "                  \"input\": \"radio\",\n",
        "              },\n",
        "          },\n",
        "          \"JOB_4\": {\n",
        "              \"mlTask\": \"CLASSIFICATION\",\n",
        "              \"required\": 1,\n",
        "              \"isChild\": False,\n",
        "              \"content\": {\n",
        "                  \"categories\": {\"HasManner\": {\"name\": \"has manner: avoids vagueness, avoids ambiguty, do not play with words, is orderly\"}, \"NoManner\": {\"name\": \"no manner: is vague or ambiguous or plays with words or is not orderly\"}},\n",
        "                  \"input\": \"radio\",\n",
        "              },\n",
        "          },\n",
        "          \"JOB_5\": {\n",
        "              \"mlTask\": \"CLASSIFICATION\",\n",
        "              \"required\": 1,\n",
        "              \"isChild\": False,\n",
        "              \"content\": {\n",
        "                  \"categories\": {\"IsPolite\": {\"name\": \"is polite\"}, \"NotPolite\": {\"name\": \"is not polite\"}},\n",
        "                  \"input\": \"radio\",\n",
        "              },\n",
        "          }\n",
        "      }\n",
        "  }\n",
        "\n",
        "  project = kili.create_project(\n",
        "      title=\"Conversation and Maxims\",\n",
        "      description=\"Project Description\",\n",
        "      input_type=\"TEXT\",\n",
        "      json_interface=interface,\n",
        "  )\n",
        "  project_id = project['id']\n",
        "  print(\"Project ID: \", project_id)\n",
        "  assets = kili.append_many_to_dataset(\n",
        "      project_id=project_id,\n",
        "      content_array = [('comment: ' + d['comment'] + '\\n' + 'reply: ' + d['reply']) for d in random_pairs[:100]],\n",
        "      external_id_array = [d['global_id'] for d in random_pairs[:100]]\n",
        "  )\n",
        "  # Project ID:  clp5pxaet1wdn086r7y3x0ngo"
      ],
      "metadata": {
        "id": "qPlH8s4PyNMx"
      },
      "execution_count": null,
      "outputs": []
    },
    {
      "cell_type": "code",
      "source": [
        "import os\n",
        "import json\n",
        "from kili.client import Kili\n",
        "\n",
        "def create_new_kili_projcet_for_better_reply(random_pairs):\n",
        "  kili = Kili(api_key='6acd489f-9746-4ac4-9650-54e2d9c9faba')\n",
        "  interface = {\n",
        "      \"jobs\": {\n",
        "          \"JOB_0\": {\n",
        "              \"mlTask\": \"CLASSIFICATION\",\n",
        "              \"required\": 1,\n",
        "              \"isChild\": False,\n",
        "              \"content\": {\n",
        "                  \"categories\": {\"A\": {\"name\": \"FirstAnswer\"}, \"B\": {\"name\": \"SecondAnswer\"}, \"Both\": {\"name\": \"BothGood\"}},\n",
        "                  \"input\": \"radio\",\n",
        "              },\n",
        "          }\n",
        "      }\n",
        "  }\n",
        "\n",
        "  project = kili.create_project(\n",
        "      title=\"Convesarions weight assesment media removed\",\n",
        "      description=\"choose better reply\",\n",
        "      input_type=\"TEXT\",\n",
        "      json_interface=interface,\n",
        "  )\n",
        "  project_id = project['id']\n",
        "  print(\"Project ID: \", project_id)\n",
        "  pairs = random_pairs\n",
        "  assets = kili.append_many_to_dataset(\n",
        "      project_id=project_id,\n",
        "      content_array = [('comment: ' + pairs[i]['comment'] + '\\n' + ' reply A: ' + pairs[i]['reply']+ '\\n' + ' reply B: ' + pairs[i+1]['reply']) for i in range(0, len(pairs), 2)],\n",
        "      external_id_array = [pairs[i]['comment_id']+\"_\"+pairs[i]['reply_id']+\"_\"+pairs[i+1]['reply_id'] for i in range(0, len(pairs), 2)]\n",
        "  )\n",
        "  # Project ID:  clp5pxaet1wdn086r7y3x0ngo"
      ],
      "metadata": {
        "id": "1NnDj_0qYr3B"
      },
      "execution_count": 12,
      "outputs": []
    },
    {
      "cell_type": "code",
      "source": [
        "create_new_kili_projcet_for_better_reply(random_pairs)"
      ],
      "metadata": {
        "id": "wSxck3a5csDV",
        "colab": {
          "base_uri": "https://localhost:8080/"
        },
        "outputId": "a27e8687-0a2c-4af5-a36f-ce1d73c1e381"
      },
      "execution_count": 13,
      "outputs": [
        {
          "output_type": "stream",
          "name": "stdout",
          "text": [
            "Project ID:  cltwxxxq91vd401765vfq38sn\n"
          ]
        }
      ]
    }
  ]
}