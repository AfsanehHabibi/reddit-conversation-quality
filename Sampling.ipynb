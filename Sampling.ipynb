{
  "nbformat": 4,
  "nbformat_minor": 0,
  "metadata": {
    "colab": {
      "provenance": [],
      "authorship_tag": "ABX9TyPDf/+ylpu2572dxPhoHd4l",
      "include_colab_link": true
    },
    "kernelspec": {
      "name": "python3",
      "display_name": "Python 3"
    },
    "language_info": {
      "name": "python"
    }
  },
  "cells": [
    {
      "cell_type": "markdown",
      "metadata": {
        "id": "view-in-github",
        "colab_type": "text"
      },
      "source": [
        "<a href=\"https://colab.research.google.com/github/AfsanehHabibi/reddit-conversation-quality/blob/main/Sampling.ipynb\" target=\"_parent\"><img src=\"https://colab.research.google.com/assets/colab-badge.svg\" alt=\"Open In Colab\"/></a>"
      ]
    },
    {
      "cell_type": "code",
      "execution_count": 1,
      "metadata": {
        "colab": {
          "base_uri": "https://localhost:8080/"
        },
        "id": "6AzAGKJmjVVd",
        "outputId": "efadb00c-e680-48d6-faf4-f17c670df0cb"
      },
      "outputs": [
        {
          "output_type": "stream",
          "name": "stdout",
          "text": [
            "Collecting anytree\n",
            "  Downloading anytree-2.12.1-py3-none-any.whl (44 kB)\n",
            "\u001b[2K     \u001b[90m━━━━━━━━━━━━━━━━━━━━━━━━━━━━━━━━━━━━━━━━\u001b[0m \u001b[32m44.9/44.9 kB\u001b[0m \u001b[31m577.3 kB/s\u001b[0m eta \u001b[36m0:00:00\u001b[0m\n",
            "\u001b[?25hRequirement already satisfied: six in /usr/local/lib/python3.10/dist-packages (from anytree) (1.16.0)\n",
            "Installing collected packages: anytree\n",
            "Successfully installed anytree-2.12.1\n"
          ]
        }
      ],
      "source": [
        "!pip install anytree"
      ]
    },
    {
      "cell_type": "code",
      "source": [
        "from google.colab import drive\n",
        "drive.mount('/content/drive')"
      ],
      "metadata": {
        "colab": {
          "base_uri": "https://localhost:8080/"
        },
        "id": "r7WJJ_fSkGFG",
        "outputId": "7cf56733-f0a8-4297-fc5c-0fa6d096d652"
      },
      "execution_count": 2,
      "outputs": [
        {
          "output_type": "stream",
          "name": "stdout",
          "text": [
            "Mounted at /content/drive\n"
          ]
        }
      ]
    },
    {
      "cell_type": "code",
      "source": [
        "base_path = \"/content/drive/MyDrive/University/RedditData/\""
      ],
      "metadata": {
        "id": "4Q1YxQyAkV_c"
      },
      "execution_count": 3,
      "outputs": []
    },
    {
      "cell_type": "code",
      "source": [
        "import pickle\n",
        "\n",
        "with open(f\"{base_path}conversations_readability.pkl\", 'rb') as file:\n",
        "    conversations = pickle.load(file)\n",
        "\n",
        "print(\"Len loaded data:\", len(conversations))"
      ],
      "metadata": {
        "colab": {
          "base_uri": "https://localhost:8080/"
        },
        "id": "sP-LARXRkkbV",
        "outputId": "7d7ab4a0-8c50-4b03-954c-7b5335b7825a"
      },
      "execution_count": 5,
      "outputs": [
        {
          "output_type": "stream",
          "name": "stdout",
          "text": [
            "Len loaded data: 32990\n"
          ]
        }
      ]
    },
    {
      "cell_type": "code",
      "source": [
        "for id in conversations:\n",
        "  print(conversations[id]['comments'][0])\n",
        "  print(conversations[id]['pairs'][0])\n",
        "  break"
      ],
      "metadata": {
        "colab": {
          "base_uri": "https://localhost:8080/"
        },
        "id": "rm2Yr5e3lTdu",
        "outputId": "3b0f4190-2435-4944-c131-36e6f3ef02de"
      },
      "execution_count": 10,
      "outputs": [
        {
          "output_type": "stream",
          "name": "stdout",
          "text": [
            "{'id': 'xyt38s', 'body': 'MLB Sat Info\\n\\nPlay\\xa0OnAll underdogs with a money line of +100 or higher\\xa0(SEATTLE)team with a terrible SLG (&lt;=.400) against a very good starting pitcher (WHIP&lt;=1.300) -AL, with a very good bullpen whose WHIP is 1.250 or better on the season217-224\\xa0over the last 5 seasons.49.2%\\xa0(89.1\\xa0units)', 'author': None, 'reply_to': None, 'conversation_id': 'xyt38s', 'politness_score': 0.09523809523809523, 'readability_score': -0.5}\n",
            "{'comment': 'MLB Sat Info\\n\\nPlay\\xa0OnAll underdogs with a money line of +100 or higher\\xa0(SEATTLE)team with a terrible SLG (&lt;=.400) against a very good starting pitcher (WHIP&lt;=1.300) -AL, with a very good bullpen whose WHIP is 1.250 or better on the season217-224\\xa0over the last 5 seasons.49.2%\\xa0(89.1\\xa0units)', 'reply': 'Play\\xa0OnAll underdogs with a money line of +100 or higher\\xa0(TAMPA BAY)team with a terrible SLG (<=.400) against a very good starting pitcher (WHIP<=1.300) -AL, with a very good bullpen whose WHIP is 1.250 or better on the season217-224\\xa0over the last 5 seasons.49.2%\\xa0(89.1\\xa0units)', 'comment_id': 'xyt38s', 'reply_id': 'iromk5a', 'global_id': 'xyt38s_iromk5a', 'relatedness_score': 0.8877267007927095}\n"
          ]
        }
      ]
    }
  ]
}