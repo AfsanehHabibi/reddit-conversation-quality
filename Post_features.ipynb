{
  "nbformat": 4,
  "nbformat_minor": 0,
  "metadata": {
    "colab": {
      "provenance": [],
      "authorship_tag": "ABX9TyMdn7zD0xOVO/f4bnwLLi1F",
      "include_colab_link": true
    },
    "kernelspec": {
      "name": "python3",
      "display_name": "Python 3"
    },
    "language_info": {
      "name": "python"
    }
  },
  "cells": [
    {
      "cell_type": "markdown",
      "metadata": {
        "id": "view-in-github",
        "colab_type": "text"
      },
      "source": [
        "<a href=\"https://colab.research.google.com/github/AfsanehHabibi/reddit-conversation-quality/blob/main/Post_features.ipynb\" target=\"_parent\"><img src=\"https://colab.research.google.com/assets/colab-badge.svg\" alt=\"Open In Colab\"/></a>"
      ]
    },
    {
      "cell_type": "code",
      "source": [
        "!pip install anytree"
      ],
      "metadata": {
        "id": "FbZFKaQiskIj",
        "colab": {
          "base_uri": "https://localhost:8080/"
        },
        "outputId": "b80272ac-4ed6-4418-cdfb-90fc477062cb"
      },
      "execution_count": 1,
      "outputs": [
        {
          "output_type": "stream",
          "name": "stdout",
          "text": [
            "Collecting anytree\n",
            "  Downloading anytree-2.12.1-py3-none-any.whl (44 kB)\n",
            "\u001b[?25l     \u001b[90m━━━━━━━━━━━━━━━━━━━━━━━━━━━━━━━━━━━━━━━━\u001b[0m \u001b[32m0.0/44.9 kB\u001b[0m \u001b[31m?\u001b[0m eta \u001b[36m-:--:--\u001b[0m\r\u001b[2K     \u001b[90m━━━━━━━━━━━━━━━━━━━━━━━━━━━━━━━━━━━━━━━━\u001b[0m \u001b[32m44.9/44.9 kB\u001b[0m \u001b[31m1.9 MB/s\u001b[0m eta \u001b[36m0:00:00\u001b[0m\n",
            "\u001b[?25hRequirement already satisfied: six in /usr/local/lib/python3.10/dist-packages (from anytree) (1.16.0)\n",
            "Installing collected packages: anytree\n",
            "Successfully installed anytree-2.12.1\n"
          ]
        }
      ]
    },
    {
      "cell_type": "code",
      "execution_count": 2,
      "metadata": {
        "colab": {
          "base_uri": "https://localhost:8080/"
        },
        "id": "mv41xLXKWkwr",
        "outputId": "c81c134b-6079-4a1d-a4fa-57e127d0d24e"
      },
      "outputs": [
        {
          "output_type": "stream",
          "name": "stdout",
          "text": [
            "Mounted at /content/drive\n"
          ]
        }
      ],
      "source": [
        "from google.colab import drive\n",
        "drive.mount('/content/drive')"
      ]
    },
    {
      "cell_type": "code",
      "source": [
        "base_path = \"/content/drive/MyDrive/University/RedditData/\""
      ],
      "metadata": {
        "id": "awKAZ4mHYPEj"
      },
      "execution_count": 3,
      "outputs": []
    },
    {
      "cell_type": "code",
      "source": [
        "import pandas as pd\n",
        "import numpy as np\n",
        "import re"
      ],
      "metadata": {
        "id": "fu7iu5p9ppz0"
      },
      "execution_count": 4,
      "outputs": []
    },
    {
      "cell_type": "code",
      "source": [
        "import pickle\n",
        "\n",
        "# Reading from a file using Pickle\n",
        "with open(f\"{base_path}conversations_with_reasoning.pkl\", 'rb') as file:\n",
        "    conversations = pickle.load(file)\n",
        "\n",
        "# Print the loaded variables\n",
        "print(\"Len conversations:\", len(conversations))"
      ],
      "metadata": {
        "colab": {
          "base_uri": "https://localhost:8080/"
        },
        "id": "Kkm6mZAl5rkd",
        "outputId": "a4e2749b-1a9a-4c6d-82c6-773876120a24"
      },
      "execution_count": 7,
      "outputs": [
        {
          "output_type": "stream",
          "name": "stdout",
          "text": [
            "Len conversations: 32990\n"
          ]
        }
      ]
    },
    {
      "cell_type": "code",
      "source": [
        "def clean_text(text):\n",
        " text = re.sub(r'@[A-Za-z0–9]+', '', text) #Remove @mentions replace with blank\n",
        " text = re.sub(r'#', '', text) #Remove the ‘#’ symbol, replace with blank\n",
        " text = re.sub(r'RT[\\s]+', '', text) #Removing RT, replace with blank\n",
        " text = re.sub(r'https?:\\/\\/\\S+', '', text) #Remove the hyperlinks\n",
        " text = re.sub(r':', '', text) # Remove :\n",
        " return text"
      ],
      "metadata": {
        "id": "qME6EaOs-Pr5"
      },
      "execution_count": 19,
      "outputs": []
    },
    {
      "cell_type": "code",
      "source": [
        "#Next we have to remove emoji & Unicode from the Tweet data.\n",
        "def remove_emoji(string):\n",
        " emoji_pattern = re.compile(\"[\"\n",
        " u\"\\U0001F600-\\U0001F64F\" # emoticons\n",
        " u\"\\U0001F300-\\U0001F5FF\" # symbols & pictographs\n",
        " u\"\\U0001F680-\\U0001F6FF\" # transport & map symbols\n",
        " u\"\\U0001F1E0-\\U0001F1FF\" # flags (iOS)\n",
        " u\"\\U00002500-\\U00002BEF\" # chinese char\n",
        " u\"\\U00002702-\\U000027B0\"\n",
        " u\"\\U00002702-\\U000027B0\"\n",
        " u\"\\U000024C2-\\U0001F251\"\n",
        " u\"\\U0001f926-\\U0001f937\"\n",
        " u\"\\U00010000-\\U0010ffff\"\n",
        " u\"\\u2640-\\u2642\"\n",
        " u\"\\u2600-\\u2B55\"\n",
        " u\"\\u200d\"\n",
        " u\"\\u23cf\"\n",
        " u\"\\u23e9\"\n",
        " u\"\\u231a\"\n",
        " u\"\\ufe0f\" # dingbats\n",
        " u\"\\u3030\"\n",
        " \"]+\", flags=re.UNICODE)\n",
        " return emoji_pattern.sub(r'', string)"
      ],
      "metadata": {
        "id": "eeIRoWHQ_BVQ"
      },
      "execution_count": 14,
      "outputs": []
    },
    {
      "cell_type": "code",
      "source": [
        "remove_emoji(\"hiiii hello (:\")"
      ],
      "metadata": {
        "colab": {
          "base_uri": "https://localhost:8080/",
          "height": 35
        },
        "id": "EzMpzQYe_nLq",
        "outputId": "c4366fed-7238-4df0-cd0a-2de3f807b578"
      },
      "execution_count": 15,
      "outputs": [
        {
          "output_type": "execute_result",
          "data": {
            "text/plain": [
              "'hiiii hello (:'"
            ],
            "application/vnd.google.colaboratory.intrinsic+json": {
              "type": "string"
            }
          },
          "metadata": {},
          "execution_count": 15
        }
      ]
    },
    {
      "cell_type": "code",
      "source": [
        "from textblob import TextBlob\n",
        "from wordcloud import WordCloud, STOPWORDS"
      ],
      "metadata": {
        "id": "GBo6_mpB_9r0"
      },
      "execution_count": 16,
      "outputs": []
    },
    {
      "cell_type": "code",
      "source": [
        "def subjectivity(text):\n",
        " return TextBlob(text).sentiment.subjectivity\n",
        "def polarity(text):\n",
        " return TextBlob(text).sentiment.polarity"
      ],
      "metadata": {
        "id": "SQY3V1kXAFbK"
      },
      "execution_count": 20,
      "outputs": []
    },
    {
      "cell_type": "code",
      "source": [
        "counter = 0\n",
        "for key in conversations:\n",
        "  comments = conversations[key]['comments']\n",
        "  for comment in comments:\n",
        "    if comment['reply_to'] is None:\n",
        "      #it is the original post\n",
        "      text = remove_emoji(clean_text(comment['body']))\n",
        "      sub = subjectivity(text)\n",
        "      pol = polarity(text)\n",
        "      conversations[key]['subjectivity'] = sub\n",
        "      conversations[key]['polarity'] =  pol\n",
        "      break"
      ],
      "metadata": {
        "id": "iVa3Ng4J5zTn"
      },
      "execution_count": 32,
      "outputs": []
    }
  ]
}