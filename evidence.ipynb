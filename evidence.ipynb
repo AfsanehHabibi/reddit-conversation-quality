{
  "nbformat": 4,
  "nbformat_minor": 0,
  "metadata": {
    "colab": {
      "provenance": [],
      "authorship_tag": "ABX9TyNNsj8zi2r2D+oXLXugU3n2",
      "include_colab_link": true
    },
    "kernelspec": {
      "name": "python3",
      "display_name": "Python 3"
    },
    "language_info": {
      "name": "python"
    }
  },
  "cells": [
    {
      "cell_type": "markdown",
      "metadata": {
        "id": "view-in-github",
        "colab_type": "text"
      },
      "source": [
        "<a href=\"https://colab.research.google.com/github/AfsanehHabibi/reddit-conversation-quality/blob/main/evidence.ipynb\" target=\"_parent\"><img src=\"https://colab.research.google.com/assets/colab-badge.svg\" alt=\"Open In Colab\"/></a>"
      ]
    },
    {
      "cell_type": "code",
      "source": [
        "!pip install anytree"
      ],
      "metadata": {
        "colab": {
          "base_uri": "https://localhost:8080/"
        },
        "id": "Gl6FgX0hVQPg",
        "outputId": "36c7013f-c4f4-4c3a-fffa-ac4f7706a148"
      },
      "execution_count": 5,
      "outputs": [
        {
          "output_type": "stream",
          "name": "stdout",
          "text": [
            "Collecting anytree\n",
            "  Downloading anytree-2.12.1-py3-none-any.whl (44 kB)\n",
            "\u001b[2K     \u001b[90m━━━━━━━━━━━━━━━━━━━━━━━━━━━━━━━━━━━━━━━━\u001b[0m \u001b[32m44.9/44.9 kB\u001b[0m \u001b[31m796.8 kB/s\u001b[0m eta \u001b[36m0:00:00\u001b[0m\n",
            "\u001b[?25hRequirement already satisfied: six in /usr/local/lib/python3.10/dist-packages (from anytree) (1.16.0)\n",
            "Installing collected packages: anytree\n",
            "Successfully installed anytree-2.12.1\n"
          ]
        }
      ]
    },
    {
      "cell_type": "code",
      "source": [
        "from google.colab import drive\n",
        "drive.mount('/content/drive')"
      ],
      "metadata": {
        "colab": {
          "base_uri": "https://localhost:8080/"
        },
        "id": "LUvhojH9U64n",
        "outputId": "e7c878cf-70d6-4721-c664-28291003bd19"
      },
      "execution_count": 2,
      "outputs": [
        {
          "output_type": "stream",
          "name": "stdout",
          "text": [
            "Mounted at /content/drive\n"
          ]
        }
      ]
    },
    {
      "cell_type": "code",
      "source": [
        "base_path = \"/content/drive/MyDrive/University/RedditData/\""
      ],
      "metadata": {
        "id": "3kJGyiBjU9ax"
      },
      "execution_count": 3,
      "outputs": []
    },
    {
      "cell_type": "code",
      "source": [
        "import pickle\n",
        "\n",
        "with open(f\"{base_path}conversations_with_reasoning_media_removed.pkl\", 'rb') as file:\n",
        "    conversations = pickle.load(file)\n",
        "\n",
        "print(\"Len loaded data:\", len(conversations))\n"
      ],
      "metadata": {
        "colab": {
          "base_uri": "https://localhost:8080/"
        },
        "id": "LkqW8RFHUxDA",
        "outputId": "7e66df6f-ca70-4b6c-fcba-6ba6dbd4af21"
      },
      "execution_count": 6,
      "outputs": [
        {
          "output_type": "stream",
          "name": "stdout",
          "text": [
            "Len loaded data: 18184\n"
          ]
        }
      ]
    },
    {
      "cell_type": "code",
      "source": [
        "for key in conversations:\n",
        "  for comment in conversations[key]['comments']:\n",
        "    find_urls_and_domains(comment['body'])"
      ],
      "metadata": {
        "colab": {
          "base_uri": "https://localhost:8080/"
        },
        "id": "SSqRHty_VY6l",
        "outputId": "204ce48d-e3ff-43a8-c492-930ae3c88bef"
      },
      "execution_count": 12,
      "outputs": [
        {
          "output_type": "stream",
          "name": "stdout",
          "text": [
            "Error processing URL 'https://help2ukraine.org)]': Invalid IPv6 URL\n",
            "Error processing URL 'https://stake.com](http://stakecasinos.online)': Invalid IPv6 URL\n",
            "Error processing URL 'https://headlinermusicclub.com](https://headlinermusicclub.com)': Invalid IPv6 URL\n",
            "Error processing URL 'https://bpmsupreme.com](https://bpmsupreme.com)': Invalid IPv6 URL\n",
            "Error processing URL 'https://translatedintoart.etsy.com](https://translatedintoart.etsy.com)': Invalid IPv6 URL\n",
            "Error processing URL 'https://www.saltyssalt.com](https://www.saltyssalt.com)': Invalid IPv6 URL\n",
            "Error processing URL 'https://fonts.gstatic.com](https://fonts.gstatic.com)': Invalid IPv6 URL\n",
            "Error processing URL 'https://freecoursesites.com](https://freecoursesites.com)': Invalid IPv6 URL\n",
            "Error processing URL 'https://nhost.io](https://nhost.io)': Invalid IPv6 URL\n",
            "Error processing URL 'https://rclshareholderbenefit.questionpro.com](https://rclshareholderbenefit.questionpro.com)': Invalid IPv6 URL\n",
            "Error processing URL 'https://www.cookie-dialog-monster.com](https://www.cookie-dialog-monster.com)': Invalid IPv6 URL\n",
            "Error processing URL 'https://www.i-dont-care-about-cookies.eu](https://www.i-dont-care-about-cookies.eu)': Invalid IPv6 URL\n",
            "Error processing URL 'https://killerskins.com](https://killerskins.com)': Invalid IPv6 URL\n",
            "Error processing URL 'http://ftroop.vk6flab.com](http://ftroop.vk6flab.com/),': Invalid IPv6 URL\n",
            "Error processing URL 'https://framed.wtf](https://framed.wtf)': Invalid IPv6 URL\n",
            "Error processing URL 'https://moviedle.app](https://moviedle.app)': Invalid IPv6 URL\n",
            "Error processing URL 'http://uaithub.com](http://uaithub.com)': Invalid IPv6 URL\n",
            "Error processing URL 'http://uaithub.com](http://uaithub.com)': Invalid IPv6 URL\n",
            "Error processing URL 'https://www.santacruz4realsolutions.com](https://www.santacruz4realsolutions.com/)': Invalid IPv6 URL\n",
            "Error processing URL 'https://gordonstonartfair.com](https://gordonstonartfair.com)': Invalid IPv6 URL\n",
            "Error processing URL 'http://prowlarr:9696](http://prowlarr:9696)': Invalid IPv6 URL\n",
            "Error processing URL 'http://sonarr:8989](http://sonarr:8989).': Invalid IPv6 URL\n",
            "Error processing URL 'http://transmission-openvpn:9696](http://transmission-openvpn:9696)': Invalid IPv6 URL\n",
            "Error processing URL 'http://transmission-openvpn:8989](http://transmission-openvpn:8989).': Invalid IPv6 URL\n"
          ]
        }
      ]
    },
    {
      "cell_type": "code",
      "execution_count": 10,
      "metadata": {
        "colab": {
          "base_uri": "https://localhost:8080/"
        },
        "id": "2c9o3f_2RVXw",
        "outputId": "a3378a72-e25b-40b1-b6c3-338f83e50711"
      },
      "outputs": [
        {
          "output_type": "stream",
          "name": "stdout",
          "text": [
            "No URLs found in the text.\n"
          ]
        }
      ],
      "source": [
        "from urllib.parse import urlparse\n",
        "import re\n",
        "\n",
        "def find_urls_and_domains(text):\n",
        "    # Define a regex pattern to match URLs\n",
        "    url_pattern = re.compile(r'http[s]?://(?:[a-zA-Z]|[0-9]|[$-_@.&+]|[!*\\\\(\\\\),]|(?:%[0-9a-fA-F][0-9a-fA-F]))+')\n",
        "\n",
        "    # Find all matches in the text\n",
        "    urls = re.findall(url_pattern, text)\n",
        "\n",
        "    # Extract domains from URLs using urlparse with error handling\n",
        "    domains = []\n",
        "    for url in urls:\n",
        "        try:\n",
        "            domain = urlparse(url).hostname\n",
        "            domains.append((url, domain))\n",
        "        except ValueError as e:\n",
        "            print(f\"Error processing URL '{url}': {e}\")\n",
        "\n",
        "    return domains\n",
        "\n",
        "# Replace 'your_text_string' with the actual text containing URLs\n",
        "text_string = 'your_text_string'\n",
        "urls_and_domains_found = find_urls_and_domains(text_string)\n",
        "\n",
        "if urls_and_domains_found:\n",
        "    print(\"URLs and their corresponding domains found in the text:\")\n",
        "    for url, domain in urls_and_domains_found:\n",
        "        print(f\"URL: {url}, Domain: {domain}\")\n",
        "else:\n",
        "    print(\"No URLs found in the text.\")\n"
      ]
    }
  ]
}