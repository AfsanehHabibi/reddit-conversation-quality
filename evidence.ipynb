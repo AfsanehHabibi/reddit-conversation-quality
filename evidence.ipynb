{
  "cells": [
    {
      "cell_type": "markdown",
      "metadata": {
        "id": "view-in-github",
        "colab_type": "text"
      },
      "source": [
        "<a href=\"https://colab.research.google.com/github/AfsanehHabibi/reddit-conversation-quality/blob/main/evidence.ipynb\" target=\"_parent\"><img src=\"https://colab.research.google.com/assets/colab-badge.svg\" alt=\"Open In Colab\"/></a>"
      ]
    },
    {
      "cell_type": "code",
      "execution_count": 1,
      "metadata": {
        "colab": {
          "base_uri": "https://localhost:8080/"
        },
        "id": "Gl6FgX0hVQPg",
        "outputId": "ce57ac57-507a-497d-c961-8ad01309d3c4"
      },
      "outputs": [
        {
          "output_type": "stream",
          "name": "stdout",
          "text": [
            "Collecting anytree\n",
            "  Downloading anytree-2.12.1-py3-none-any.whl (44 kB)\n",
            "\u001b[?25l     \u001b[90m━━━━━━━━━━━━━━━━━━━━━━━━━━━━━━━━━━━━━━━━\u001b[0m \u001b[32m0.0/44.9 kB\u001b[0m \u001b[31m?\u001b[0m eta \u001b[36m-:--:--\u001b[0m\r\u001b[2K     \u001b[90m━━━━━━━━━━━━━━━━━━━━━━━━━━━━━━━━━━━━━━━━\u001b[0m \u001b[32m44.9/44.9 kB\u001b[0m \u001b[31m1.2 MB/s\u001b[0m eta \u001b[36m0:00:00\u001b[0m\n",
            "\u001b[?25hRequirement already satisfied: six in /usr/local/lib/python3.10/dist-packages (from anytree) (1.16.0)\n",
            "Installing collected packages: anytree\n",
            "Successfully installed anytree-2.12.1\n"
          ]
        }
      ],
      "source": [
        "!pip install anytree"
      ]
    },
    {
      "cell_type": "code",
      "execution_count": 2,
      "metadata": {
        "colab": {
          "base_uri": "https://localhost:8080/"
        },
        "id": "LUvhojH9U64n",
        "outputId": "6fd8674d-4140-4698-db3a-caf203d5f896"
      },
      "outputs": [
        {
          "output_type": "stream",
          "name": "stdout",
          "text": [
            "Mounted at /content/drive\n"
          ]
        }
      ],
      "source": [
        "from google.colab import drive\n",
        "drive.mount('/content/drive')"
      ]
    },
    {
      "cell_type": "code",
      "execution_count": 3,
      "metadata": {
        "id": "3kJGyiBjU9ax"
      },
      "outputs": [],
      "source": [
        "base_path = \"/content/drive/MyDrive/University/RedditData/\""
      ]
    },
    {
      "cell_type": "code",
      "execution_count": 4,
      "metadata": {
        "colab": {
          "base_uri": "https://localhost:8080/"
        },
        "id": "LkqW8RFHUxDA",
        "outputId": "f7ff50ee-320c-4db5-9b8d-653219c5ffbd"
      },
      "outputs": [
        {
          "output_type": "stream",
          "name": "stdout",
          "text": [
            "Len loaded data: 18184\n"
          ]
        }
      ],
      "source": [
        "import pickle\n",
        "\n",
        "with open(f\"{base_path}conversations_with_sites.pkl\", 'rb') as file:\n",
        "    conversations = pickle.load(file)\n",
        "\n",
        "print(\"Len loaded data:\", len(conversations))\n"
      ]
    },
    {
      "cell_type": "code",
      "execution_count": 5,
      "metadata": {
        "id": "yriV6sr2wchg"
      },
      "outputs": [],
      "source": [
        "def remove_characters_from_end(input_string):\n",
        "    characters_to_remove = [')', '[', ')]', ').', '/', '/),']\n",
        "\n",
        "    # Use rstrip to remove the specified characters from the end of the string\n",
        "    for char in characters_to_remove:\n",
        "        input_string = input_string.rstrip(char)\n",
        "\n",
        "    return input_string"
      ]
    },
    {
      "cell_type": "code",
      "execution_count": 6,
      "metadata": {
        "id": "2c9o3f_2RVXw"
      },
      "outputs": [],
      "source": [
        "from urllib.parse import urlparse\n",
        "import re\n",
        "\n",
        "def find_urls_and_domains(text):\n",
        "    # Define a regex pattern to match URLs\n",
        "    url_pattern = re.compile(r'http[s]?://(?:[a-zA-Z]|[0-9]|[$-_@.&+]|[!*\\\\(\\\\),]|(?:%[0-9a-fA-F][0-9a-fA-F]))+')\n",
        "\n",
        "    # Find all matches in the text\n",
        "    urls = re.findall(url_pattern, text)\n",
        "\n",
        "    # Extract domains from URLs using urlparse with error handling\n",
        "    domains = []\n",
        "    for url in urls:\n",
        "        try:\n",
        "            domain = urlparse(url).hostname\n",
        "            domains.append((url, domain))\n",
        "        except ValueError as e:\n",
        "            result = url.split('](')\n",
        "            for part in result:\n",
        "                cleaned = remove_characters_from_end(part)\n",
        "                domain = urlparse(cleaned).hostname\n",
        "                domains.append((cleaned, domain))\n",
        "\n",
        "    return domains"
      ]
    },
    {
      "cell_type": "code",
      "source": [
        "import re\n",
        "\n",
        "def find_numbers(s):\n",
        "    # Define a regex pattern to match URLs\n",
        "    url_pattern = re.compile(r'http[s]?://(?:[a-zA-Z]|[0-9]|[$-_@.&+]|[!*\\\\(\\\\),]|(?:%[0-9a-fA-F][0-9a-fA-F]))+')\n",
        "\n",
        "    # Find and replace all URLs in the text\n",
        "    s = re.sub(url_pattern, '', s)\n",
        "\n",
        "    # Define a regex pattern to match numbers\n",
        "    #number_pattern = re.compile(r'\\b(?:\\d+(?:\\.\\d+)?|two|three|four|five|six|seven|eight|nine|ten|eleven|twelve|thirteen|fourteen|fifteen|sixteen|seventeen|eighteen|nineteen|twenty|thirty|forty|fifty|sixty|seventy|eighty|ninety|hundred|thousand|million|billion)\\b')\n",
        "\n",
        "    # Find all matches in the text\n",
        "    numbers = re.findall(r'\\b(?:\\d+(?:\\.\\d+)?|two|three|four|five|six|seven|eight|nine|ten|eleven|twelve|thirteen|fourteen|fifteen|sixteen|seventeen|eighteen|nineteen|twenty|thirty|forty|fifty|sixty|seventy|eighty|ninety|hundred|thousand|million|billion)\\b', s, flags=re.IGNORECASE)\n",
        "\n",
        "    # Print all matches\n",
        "    # for number in numbers:\n",
        "    #   print(number)\n",
        "    return numbers\n",
        "\n",
        "# Test the function\n",
        "find_numbers(\"HUNDERED are one hundred and twenty questions, but only 6 are relevant. twenty-two, Eight\")\n"
      ],
      "metadata": {
        "colab": {
          "base_uri": "https://localhost:8080/"
        },
        "id": "Eowx3sU4Y1AK",
        "outputId": "2ef1d9ec-0717-4237-d2f5-f9a1cae9339a"
      },
      "execution_count": 75,
      "outputs": [
        {
          "output_type": "execute_result",
          "data": {
            "text/plain": [
              "['hundred', 'twenty', '6', 'twenty', 'two', 'Eight']"
            ]
          },
          "metadata": {},
          "execution_count": 75
        }
      ]
    },
    {
      "cell_type": "code",
      "source": [
        "import random\n",
        "\n",
        "def get_random_pairs(conversations, sample_size):\n",
        "  random_pairs = []\n",
        "\n",
        "  random_sample = random.sample(conversations.items(), sample_size)\n",
        "  for sample_conversation in random_sample:\n",
        "      random_pair = random.choice(sample_conversation[1]['pairs'])\n",
        "      for pair in sample_conversation[1]['pairs']:\n",
        "        if pair['comment_id'] == random_pair['comment_id'] and pair['reply_id'] != random_pair['reply_id']:\n",
        "          other_response = pair\n",
        "          random_pairs.append(random_pair)\n",
        "          random_pairs.append(pair)\n",
        "          break\n",
        "  return random_pairs"
      ],
      "metadata": {
        "id": "UIinJLUL2YTm"
      },
      "execution_count": 8,
      "outputs": []
    },
    {
      "cell_type": "code",
      "source": [
        "random_pairs =get_random_pairs(conversations, 5)"
      ],
      "metadata": {
        "colab": {
          "base_uri": "https://localhost:8080/"
        },
        "id": "wsdpArTC2ap9",
        "outputId": "9d69a451-c01b-48c0-bffa-31060a309f5c"
      },
      "execution_count": 60,
      "outputs": [
        {
          "output_type": "stream",
          "name": "stderr",
          "text": [
            "<ipython-input-8-739721b51061>:6: DeprecationWarning: Sampling from a set deprecated\n",
            "since Python 3.9 and will be removed in a subsequent version.\n",
            "  random_sample = random.sample(conversations.items(), sample_size)\n"
          ]
        }
      ]
    },
    {
      "cell_type": "code",
      "source": [
        "for pair in random_pairs:\n",
        "  print(pair['reply'])\n",
        "  print(find_numbers(pair['reply']))"
      ],
      "metadata": {
        "colab": {
          "base_uri": "https://localhost:8080/"
        },
        "id": "zsSBMm8i3G9F",
        "outputId": "8c75b199-6c0d-43f9-b9b5-38a61d9c3da3"
      },
      "execution_count": 61,
      "outputs": [
        {
          "output_type": "stream",
          "name": "stdout",
          "text": [
            "Sometimes youre just gonna have to try stuff on. It sucks and sizes are all over the place from one brand to another, ive worn stuff from medium to XXL so it really just depends unfortunately\n",
            "None\n",
            "Once you break the ice, you know what works. But as mentioned, you’re gonna have to try them on. \n",
            "\n",
            "I booked a session at my local Macy’s with a style consultant… I was scared to death but she really helped me and still does. \n",
            "\n",
            "Once you find a style, then a brand, things get a little more consistent. I’m 6’ 190#’s 32x32 pants. I have found that 12 dress size generally works for me. \n",
            "\n",
            "Woman’s pant’s all over the place. I wear 8, 10, and rarely a 12. \n",
            "\n",
            "If you plan to actually transition, you’re going to have to jump on in the water… it really is nice once your in…\n",
            "\n",
            "Hope this helps\n",
            "6\n",
            "190\n",
            "12\n",
            "8\n",
            "10\n",
            "12\n",
            "None\n",
            "If you’re going to post a hot take in a meme subreddit could you at least do it the form of a meme.\n",
            "None\n",
            "Shut up get out. The design is hideous and the way the character is written ruined the bauberse canon.\n",
            "None\n"
          ]
        }
      ]
    },
    {
      "cell_type": "code",
      "source": [
        "for key in conversations:\n",
        "  for comment in conversations[key]['comments']:\n",
        "    urls_and_domains = find_urls_and_domains(comment['body'])\n",
        "    numbers = find_numbers(comment['body'])\n",
        "    result = 0.0\n",
        "    if len(urls_and_domains) != 0:\n",
        "      result += 0.5\n",
        "    if len(numbers) != 0:\n",
        "      result += 0.5\n",
        "    comment['evidence'] = result"
      ],
      "metadata": {
        "id": "CoYzGj6TdG-P"
      },
      "execution_count": 76,
      "outputs": []
    },
    {
      "cell_type": "code",
      "execution_count": 63,
      "metadata": {
        "id": "SSqRHty_VY6l"
      },
      "outputs": [],
      "source": [
        "domains = set()\n",
        "for key in conversations:\n",
        "  for comment in conversations[key]['comments']:\n",
        "    urls_and_domains = find_urls_and_domains(comment['body'])\n",
        "    comment['site_ref_count'] = str(len(urls_and_domains))\n",
        "    #print(comment['site_ref_count'])\n",
        "    #for url, domain in urls_and_domains:\n",
        "    #       if domain and domain not in domains:\n",
        "    #           domains.add(domain)"
      ]
    },
    {
      "cell_type": "code",
      "execution_count": 69,
      "metadata": {
        "id": "Pwv042sl0lRd"
      },
      "outputs": [],
      "source": [
        "import pickle\n",
        "\n",
        "def write_conversations_with_site():\n",
        "  with open(f\"{base_path}conversations_with_numbers_sites.pkl\", 'wb') as file:\n",
        "    pickle.dump(conversations, file)\n",
        "  print(\"Variables written to the file.\")"
      ]
    },
    {
      "cell_type": "code",
      "execution_count": 77,
      "metadata": {
        "colab": {
          "base_uri": "https://localhost:8080/"
        },
        "id": "G-5zHE9U2LKJ",
        "outputId": "db7be3bb-f3d0-439c-e225-69052ecd1b29"
      },
      "outputs": [
        {
          "output_type": "stream",
          "name": "stdout",
          "text": [
            "Variables written to the file.\n"
          ]
        }
      ],
      "source": [
        "write_conversations_with_site()"
      ]
    }
  ],
  "metadata": {
    "colab": {
      "provenance": [],
      "authorship_tag": "ABX9TyOWa2rjeBZ/W0MTPlJCJTSd",
      "include_colab_link": true
    },
    "kernelspec": {
      "display_name": "Python 3",
      "name": "python3"
    },
    "language_info": {
      "name": "python"
    }
  },
  "nbformat": 4,
  "nbformat_minor": 0
}