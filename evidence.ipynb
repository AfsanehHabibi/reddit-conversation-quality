{
  "nbformat": 4,
  "nbformat_minor": 0,
  "metadata": {
    "colab": {
      "provenance": [],
      "authorship_tag": "ABX9TyOFepKPtiE2sMpOHgiUnt7j",
      "include_colab_link": true
    },
    "kernelspec": {
      "name": "python3",
      "display_name": "Python 3"
    },
    "language_info": {
      "name": "python"
    }
  },
  "cells": [
    {
      "cell_type": "markdown",
      "metadata": {
        "id": "view-in-github",
        "colab_type": "text"
      },
      "source": [
        "<a href=\"https://colab.research.google.com/github/AfsanehHabibi/reddit-conversation-quality/blob/main/evidence.ipynb\" target=\"_parent\"><img src=\"https://colab.research.google.com/assets/colab-badge.svg\" alt=\"Open In Colab\"/></a>"
      ]
    },
    {
      "cell_type": "code",
      "source": [
        "!pip install anytree"
      ],
      "metadata": {
        "colab": {
          "base_uri": "https://localhost:8080/"
        },
        "id": "Gl6FgX0hVQPg",
        "outputId": "db481078-7e80-46bb-89c0-d3a38735a97a"
      },
      "execution_count": 1,
      "outputs": [
        {
          "output_type": "stream",
          "name": "stdout",
          "text": [
            "Collecting anytree\n",
            "  Downloading anytree-2.12.1-py3-none-any.whl (44 kB)\n",
            "\u001b[?25l     \u001b[90m━━━━━━━━━━━━━━━━━━━━━━━━━━━━━━━━━━━━━━━━\u001b[0m \u001b[32m0.0/44.9 kB\u001b[0m \u001b[31m?\u001b[0m eta \u001b[36m-:--:--\u001b[0m\r\u001b[2K     \u001b[90m━━━━━━━━━━━━━━━━━━━━━━━━━━━━━━━━━━━━━━━━\u001b[0m \u001b[32m44.9/44.9 kB\u001b[0m \u001b[31m2.0 MB/s\u001b[0m eta \u001b[36m0:00:00\u001b[0m\n",
            "\u001b[?25hRequirement already satisfied: six in /usr/local/lib/python3.10/dist-packages (from anytree) (1.16.0)\n",
            "Installing collected packages: anytree\n",
            "Successfully installed anytree-2.12.1\n"
          ]
        }
      ]
    },
    {
      "cell_type": "code",
      "source": [
        "from google.colab import drive\n",
        "drive.mount('/content/drive')"
      ],
      "metadata": {
        "colab": {
          "base_uri": "https://localhost:8080/"
        },
        "id": "LUvhojH9U64n",
        "outputId": "9fc1c20f-1d74-42b8-b974-8b47e9ccdfc4"
      },
      "execution_count": 2,
      "outputs": [
        {
          "output_type": "stream",
          "name": "stdout",
          "text": [
            "Mounted at /content/drive\n"
          ]
        }
      ]
    },
    {
      "cell_type": "code",
      "source": [
        "base_path = \"/content/drive/MyDrive/University/RedditData/\""
      ],
      "metadata": {
        "id": "3kJGyiBjU9ax"
      },
      "execution_count": 3,
      "outputs": []
    },
    {
      "cell_type": "code",
      "source": [
        "import pickle\n",
        "\n",
        "with open(f\"{base_path}conversations_with_reasoning_media_removed.pkl\", 'rb') as file:\n",
        "    conversations = pickle.load(file)\n",
        "\n",
        "print(\"Len loaded data:\", len(conversations))\n"
      ],
      "metadata": {
        "colab": {
          "base_uri": "https://localhost:8080/"
        },
        "id": "LkqW8RFHUxDA",
        "outputId": "b202efe3-bdf8-45bf-dd5b-fb36ff88e1a7"
      },
      "execution_count": 4,
      "outputs": [
        {
          "output_type": "stream",
          "name": "stdout",
          "text": [
            "Len loaded data: 18184\n"
          ]
        }
      ]
    },
    {
      "cell_type": "code",
      "source": [
        "def remove_characters_from_end(input_string):\n",
        "    characters_to_remove = [')', '[', ')]', ').', '/', '/),']\n",
        "\n",
        "    # Use rstrip to remove the specified characters from the end of the string\n",
        "    for char in characters_to_remove:\n",
        "        input_string = input_string.rstrip(char)\n",
        "\n",
        "    return input_string"
      ],
      "metadata": {
        "id": "yriV6sr2wchg"
      },
      "execution_count": 28,
      "outputs": []
    },
    {
      "cell_type": "code",
      "source": [
        "for key in conversations:\n",
        "  for comment in conversations[key]['comments']:\n",
        "    find_urls_and_domains(comment['body'])"
      ],
      "metadata": {
        "colab": {
          "base_uri": "https://localhost:8080/"
        },
        "id": "SSqRHty_VY6l",
        "outputId": "7671ea9e-832f-4b43-fa4b-ed2b3c97e287"
      },
      "execution_count": 30,
      "outputs": [
        {
          "output_type": "stream",
          "name": "stdout",
          "text": [
            "https://help2ukraine.org\n",
            "https://stake.com\n",
            "http://stakecasinos.online\n",
            "https://headlinermusicclub.com\n",
            "https://headlinermusicclub.com\n",
            "https://bpmsupreme.com\n",
            "https://bpmsupreme.com\n",
            "https://translatedintoart.etsy.com\n",
            "https://translatedintoart.etsy.com\n",
            "https://www.saltyssalt.com\n",
            "https://www.saltyssalt.com\n",
            "https://fonts.gstatic.com\n",
            "https://fonts.gstatic.com\n",
            "https://freecoursesites.com\n",
            "https://freecoursesites.com\n",
            "https://nhost.io\n",
            "https://nhost.io\n",
            "https://rclshareholderbenefit.questionpro.com\n",
            "https://rclshareholderbenefit.questionpro.com\n",
            "https://www.cookie-dialog-monster.com\n",
            "https://www.cookie-dialog-monster.com\n",
            "https://www.i-dont-care-about-cookies.eu\n",
            "https://www.i-dont-care-about-cookies.eu\n",
            "https://killerskins.com\n",
            "https://killerskins.com\n",
            "http://ftroop.vk6flab.com\n",
            "http://ftroop.vk6flab.com\n",
            "https://framed.wtf\n",
            "https://framed.wtf\n",
            "https://moviedle.app\n",
            "https://moviedle.app\n",
            "http://uaithub.com\n",
            "http://uaithub.com\n",
            "http://uaithub.com\n",
            "http://uaithub.com\n",
            "https://www.santacruz4realsolutions.com\n",
            "https://www.santacruz4realsolutions.com\n",
            "https://gordonstonartfair.com\n",
            "https://gordonstonartfair.com\n",
            "http://prowlarr:9696\n",
            "http://prowlarr:9696\n",
            "http://sonarr:8989\n",
            "http://sonarr:8989\n",
            "http://transmission-openvpn:9696\n",
            "http://transmission-openvpn:9696\n",
            "http://transmission-openvpn:8989\n",
            "http://transmission-openvpn:8989\n"
          ]
        }
      ]
    },
    {
      "cell_type": "code",
      "execution_count": 29,
      "metadata": {
        "id": "2c9o3f_2RVXw"
      },
      "outputs": [],
      "source": [
        "from urllib.parse import urlparse\n",
        "import re\n",
        "\n",
        "def find_urls_and_domains(text):\n",
        "    # Define a regex pattern to match URLs\n",
        "    url_pattern = re.compile(r'http[s]?://(?:[a-zA-Z]|[0-9]|[$-_@.&+]|[!*\\\\(\\\\),]|(?:%[0-9a-fA-F][0-9a-fA-F]))+')\n",
        "\n",
        "    # Find all matches in the text\n",
        "    urls = re.findall(url_pattern, text)\n",
        "\n",
        "    # Extract domains from URLs using urlparse with error handling\n",
        "    domains = []\n",
        "    for url in urls:\n",
        "        try:\n",
        "            domain = urlparse(url).hostname\n",
        "            domains.append((url, domain))\n",
        "        except ValueError as e:\n",
        "            result = url.split('](')\n",
        "            for part in result:\n",
        "                cleaned = remove_characters_from_end(part)\n",
        "                print(cleaned)\n",
        "                domain = urlparse(cleaned).hostname\n",
        "                domains.append((cleaned, domain))\n",
        "\n",
        "    return domains"
      ]
    }
  ]
}